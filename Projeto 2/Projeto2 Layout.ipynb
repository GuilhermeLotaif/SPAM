{
 "cells": [
  {
   "cell_type": "markdown",
   "metadata": {},
   "source": [
    "___\n",
    "# Ciência dos Dados - PROJETO 2"
   ]
  },
  {
   "cell_type": "markdown",
   "metadata": {},
   "source": [
    "___\n",
    "### **Guilherme Lotaif, Renato Tajima, Thiago Verardo**\n",
    "___"
   ]
  },
  {
   "cell_type": "markdown",
   "metadata": {},
   "source": [
    "\n",
    "\n",
    "## 1. Problema\n",
    "\n",
    "O Classificador Naive-Bayes, o qual se baseia no uso do teorema de Bayes, é largamente utilizado em filtros anti-spam de e-mails. O classificador permite calcular qual a probabilidade de uma mensagem ser SPAM considerando as palavras em seu conteúdo e, de forma complementar, permite calcular a probabilidade de uma mensagem ser HAM dada as palavras descritas na mensagem.\n",
    "\n",
    "Para realizar o MVP (minimum viable product) do projeto, você precisa programar uma versão do classificador que \"aprende\" o que é uma mensagem SPAM considerando uma base de treinamento e comparar o desempenho dos resultados com uma base de testes. \n"
   ]
  },
  {
   "cell_type": "markdown",
   "metadata": {},
   "source": [
    "___ \n",
    "## Importando e limpando a base de dados\n",
    "\n",
    "Para obter uma maior performance do algoritimo de previsão temos que: remover alguns caratcteres que não vão ajudar a fazer as previsões, pelo contrário, não remove-los só prejudica a ação do classificador, e outro método de limpeza utilizado é a transformção de todas palavras para letra minúscula, assim eliminando a existência da mesma palavra de diferentes maneiras."
   ]
  },
  {
   "cell_type": "markdown",
   "metadata": {},
   "source": [
    "\n",
    "\n",
    "**Importando as bibliotecas que serão utilizadas:**"
   ]
  },
  {
   "cell_type": "code",
   "execution_count": 1,
   "metadata": {},
   "outputs": [],
   "source": [
    "import pandas as pd\n",
    "from sklearn.model_selection import train_test_split\n",
    "import os"
   ]
  },
  {
   "cell_type": "markdown",
   "metadata": {},
   "source": [
    "**Vamos abrir o arquivo:**<br>\n",
    "O arquivo que vamos utilizar contém emails classificados como SPAM ou HAM."
   ]
  },
  {
   "cell_type": "code",
   "execution_count": 3,
   "metadata": {},
   "outputs": [
    {
     "name": "stdout",
     "output_type": "stream",
     "text": [
      "Esperamos trabalhar no diretório\n",
      "/Users/guilherme/Documents/Insper/2 Semestre DPA/Ciência dos Dados/Projetos/Projeto 2\n"
     ]
    }
   ],
   "source": [
    "print('Esperamos trabalhar no diretório:')\n",
    "print(os.getcwd())"
   ]
  },
  {
   "cell_type": "code",
   "execution_count": 4,
   "metadata": {},
   "outputs": [],
   "source": [
    "#Abrindo o arquivo com os emails:\n",
    "df = pd.read_excel('spamham2019.xlsx')"
   ]
  },
  {
   "cell_type": "code",
   "execution_count": 65,
   "metadata": {},
   "outputs": [
    {
     "data": {
      "text/html": [
       "<div>\n",
       "<style scoped>\n",
       "    .dataframe tbody tr th:only-of-type {\n",
       "        vertical-align: middle;\n",
       "    }\n",
       "\n",
       "    .dataframe tbody tr th {\n",
       "        vertical-align: top;\n",
       "    }\n",
       "\n",
       "    .dataframe thead th {\n",
       "        text-align: right;\n",
       "    }\n",
       "</style>\n",
       "<table border=\"1\" class=\"dataframe\">\n",
       "  <thead>\n",
       "    <tr style=\"text-align: right;\">\n",
       "      <th></th>\n",
       "      <th>Email</th>\n",
       "      <th>Class</th>\n",
       "    </tr>\n",
       "  </thead>\n",
       "  <tbody>\n",
       "    <tr>\n",
       "      <th>2025</th>\n",
       "      <td>Nah man, my car is meant to be crammed full of...</td>\n",
       "      <td>ham</td>\n",
       "    </tr>\n",
       "    <tr>\n",
       "      <th>1701</th>\n",
       "      <td>I have lost 10 kilos as of today!</td>\n",
       "      <td>ham</td>\n",
       "    </tr>\n",
       "  </tbody>\n",
       "</table>\n",
       "</div>"
      ],
      "text/plain": [
       "                                                  Email Class\n",
       "2025  Nah man, my car is meant to be crammed full of...   ham\n",
       "1701                  I have lost 10 kilos as of today!   ham"
      ]
     },
     "execution_count": 65,
     "metadata": {},
     "output_type": "execute_result"
    }
   ],
   "source": [
    "#Dataframe do arquivo importado:\n",
    "df.sample(2)"
   ]
  },
  {
   "cell_type": "code",
   "execution_count": 6,
   "metadata": {},
   "outputs": [
    {
     "data": {
      "text/plain": [
       "(5572, 2)"
      ]
     },
     "execution_count": 6,
     "metadata": {},
     "output_type": "execute_result"
    }
   ],
   "source": [
    "#Formato do dataframe:\n",
    "df.shape"
   ]
  },
  {
   "cell_type": "markdown",
   "metadata": {},
   "source": [
    "...\n",
    "\n",
    "Vamos criar uma função para limpar o dataframe:"
   ]
  },
  {
   "cell_type": "code",
   "execution_count": 7,
   "metadata": {},
   "outputs": [],
   "source": [
    "#Criando a função para remover os caracteres que atrapalham o classificador:\n",
    "def Replacer (emails):\n",
    "    #vamos subtituir cada caractere indesejado por um espaço:\n",
    "    emails = emails.replace(\"*\",\"\")\n",
    "    emails = emails.replace(\"!\",\"\")\n",
    "    emails = emails.replace(\"@\",\"\")\n",
    "    emails = emails.replace(\"#\",\"\")\n",
    "    emails = emails.replace(\"$\",\"\")\n",
    "    emails = emails.replace(\"%\",\"\")\n",
    "    emails = emails.replace(\"&\",\"\")\n",
    "    emails = emails.replace(\"-\",\"\")\n",
    "    emails = emails.replace(\"_\",\"\")\n",
    "    emails = emails.replace(\"+\",\"\")\n",
    "    emails = emails.replace(\"=\",\"\")\n",
    "    emails = emails.replace(\"'\",\"\")\n",
    "    emails = emails.replace(\"?\",\"\")\n",
    "    emails = emails.replace(\";\",\"\")\n",
    "    emails = emails.replace(\",\",\"\")\n",
    "    emails = emails.replace(\".\",\"\")\n",
    "    emails = emails.replace(\":\",\"\")\n",
    "    emails = emails.replace(\")\",\"\")\n",
    "    emails = emails.replace(\"(\",\"\")\n",
    "    emails = emails.replace(\"/\",\"\")\n",
    "    emails = emails.replace('\"',\"\")\n",
    "    #Vamos deixar todas as caracteres em letra minúscula:\n",
    "    emails = emails.lower()\n",
    "    #Vamos separar as palavras de cada email:\n",
    "    emails = emails.split()\n",
    "\n",
    "    return emails"
   ]
  },
  {
   "cell_type": "markdown",
   "metadata": {},
   "source": [
    "___\n",
    "## 2. Separação da base de dados em Treinamento e Teste\n",
    "\n",
    "A base de dados deve ser separada em duas partes, aleatoriamente, considerando: \n",
    "    \n",
    "   - 75% dos dados para a parte Treinamento;\n",
    "   - 25% dos dados para a parte Teste."
   ]
  },
  {
   "cell_type": "markdown",
   "metadata": {},
   "source": [
    "Será que existem valores nulos no dataframe:"
   ]
  },
  {
   "cell_type": "code",
   "execution_count": null,
   "metadata": {},
   "outputs": [],
   "source": [
    "#Checando por valores nulos na coluna Class:\n",
    "print('Valores nulos no dataset:', df.Class.isnull().any());"
   ]
  },
  {
   "cell_type": "markdown",
   "metadata": {},
   "source": [
    "...\n",
    "\n",
    "**Dividindo os dados em treino e teste:**"
   ]
  },
  {
   "cell_type": "code",
   "execution_count": 8,
   "metadata": {},
   "outputs": [],
   "source": [
    "#Particionando o dataframe, com 25% do total para testes:\n",
    "treinamento, teste = train_test_split(df, test_size=0.25) "
   ]
  },
  {
   "cell_type": "code",
   "execution_count": 12,
   "metadata": {
    "scrolled": true
   },
   "outputs": [
    {
     "name": "stdout",
     "output_type": "stream",
     "text": [
      "O dataframe de treinamento possui:\n",
      " 3599 emails HAM, que corresponde a 86.12%\n",
      " 580 emails SPAM, que corresponde a 13.88%\n",
      "\n"
     ]
    }
   ],
   "source": [
    "#Analisando quantos emails ham e spam existem no dataframe de treinamento:\n",
    "ham, spam = (treinamento[\"Class\"]).value_counts()\n",
    "total_treino = treinamento[\"Class\"].value_counts().sum()\n",
    "print(\"O dataframe de treinamento possui:\\n\",ham,\"emails HAM, que corresponde a {:.2f}%\\n\".format(ham/total_treino*100),\n",
    "                                             spam,\"emails SPAM, que corresponde a {:.2f}%\\n\".format(spam/total_treino*100))"
   ]
  },
  {
   "cell_type": "markdown",
   "metadata": {},
   "source": [
    "...\n",
    "\n",
    "**Separando emails SPAM e HAM:**\n",
    "\n",
    "- Primeiramente vamos separar os emails SPAM."
   ]
  },
  {
   "cell_type": "code",
   "execution_count": 27,
   "metadata": {},
   "outputs": [],
   "source": [
    "#Criando uma lista para as palavras dos emails SPAM:\n",
    "dic_SPAM = {}\n",
    "#Criando a variável contador para o total de palavras SPAM:\n",
    "contador_SPAM = 0\n",
    "\n",
    "#Criando um loop para atribuir os emails SPAM a uma variável:\n",
    "for email in treinamento.Email[treinamento.Class == \"spam\"]:\n",
    "    lista_SPAM = Replacer(email)\n",
    "    #Criando um loop para alocar as palavras de SPAM no dicionário:\n",
    "    for palavra in lista_SPAM:\n",
    "        if palavra not in dic_SPAM:\n",
    "            dic_SPAM[palavra] =1\n",
    "            contador_SPAM +=1\n",
    "        else:\n",
    "            dic_SPAM[palavra] +=1\n",
    "            contador_SPAM +=1"
   ]
  },
  {
   "cell_type": "code",
   "execution_count": 28,
   "metadata": {},
   "outputs": [
    {
     "name": "stdout",
     "output_type": "stream",
     "text": [
      "Quantidade de palavras sem repetição: 2649 \n",
      "Quantidade total de palavras: 13652\n"
     ]
    }
   ],
   "source": [
    "print(\"Quantidade de palavras sem repetição: {0}\".format(len(dic_SPAM)),\n",
    "      \"\\nQuantidade total de palavras: {0}\".format(contador_SPAM))"
   ]
  },
  {
   "cell_type": "markdown",
   "metadata": {},
   "source": [
    "- Agora vamos separar os emails HAM."
   ]
  },
  {
   "cell_type": "code",
   "execution_count": 29,
   "metadata": {},
   "outputs": [],
   "source": [
    "#Criando uma lista para as palavras dos emails HAM:\n",
    "dic_HAM = {}\n",
    "#Criando a variável contador para o total de palavras HAM:\n",
    "contador_HAM = 0\n",
    "\n",
    "#Criando um loop para atribuir os emails HAM a uma variável:\n",
    "for email in treinamento.Email[treinamento.Class == \"ham\"]:\n",
    "    lista_HAM = Replacer(email)\n",
    "    #Criando um loop para alocar as palavras de HAM no dicionário:\n",
    "    for palavra in lista_HAM:\n",
    "        if palavra not in dic_HAM:\n",
    "            dic_HAM[palavra] =1\n",
    "            contador_HAM +=1\n",
    "        else:\n",
    "            dic_HAM[palavra] +=1\n",
    "            contador_HAM +=1"
   ]
  },
  {
   "cell_type": "code",
   "execution_count": 30,
   "metadata": {},
   "outputs": [
    {
     "name": "stdout",
     "output_type": "stream",
     "text": [
      "Quantidade de palavras sem repetição: 6584 \n",
      "Quantidade total de palavras: 50774\n"
     ]
    }
   ],
   "source": [
    "print(\"Quantidade de palavras sem repetição: {0}\".format(len(dic_HAM)),\n",
    "      \"\\nQuantidade total de palavras: {0}\".format(contador_HAM))"
   ]
  },
  {
   "cell_type": "markdown",
   "metadata": {},
   "source": [
    "É possivel perceber que por ter uma quantidade muito superior de emails HAM, o seu número de palavras é bem maior, e repetição também é superior do que a dos emails SPAM."
   ]
  },
  {
   "cell_type": "markdown",
   "metadata": {},
   "source": [
    "...\n",
    "\n",
    "**Vamos ver a quantidade total de palavras**"
   ]
  },
  {
   "cell_type": "code",
   "execution_count": 40,
   "metadata": {},
   "outputs": [
    {
     "name": "stdout",
     "output_type": "stream",
     "text": [
      "Total: 64426 Palavras\n"
     ]
    }
   ],
   "source": [
    "#Vamos contar a quantidade total de palavras:\n",
    "Total_palavras = contador_SPAM + contador_HAM\n",
    "print(\"Total: {0} Palavras\".format(Total_palavras))"
   ]
  },
  {
   "cell_type": "markdown",
   "metadata": {},
   "source": [
    "___\n",
    "## 3. Classificador Naive-Bayes\n",
    "\n",
    "O algoritmo Naive-Bayes é um classificador probabilístico baseado no \"Teorema de Bayes\". Ele usa os dados fornecidos para criar uma partição de treinamento e uma de teste, a partir da partição de treinamento o algoritmo analisa os dados , que por sua vez é feita de maneira independente, ou seja, para o algoritmo não existe uma relação de dependecia dos fatores, por exemplo: se for analisado um tenis, que seja vermelho, de tamanho 43 e novo, esses dados serão analisados separadamente."
   ]
  },
  {
   "cell_type": "markdown",
   "metadata": {},
   "source": [
    "...\n",
    "\n",
    "**Antes de usar o classificador, vamos descobrir algumas probabilidades:**\n",
    "\n",
    "- A probabilidade de uma mensagem ser SPAM, ou seja:<br>\n",
    "\n",
    "    $P(SPAM)$"
   ]
  },
  {
   "cell_type": "code",
   "execution_count": 58,
   "metadata": {},
   "outputs": [
    {
     "name": "stdout",
     "output_type": "stream",
     "text": [
      "0.14\n"
     ]
    }
   ],
   "source": [
    "#Descobrindo a probabilidade a partir do total de emails SPAM, e do total geral:\n",
    "Pspam = spam/len(treinamento.Email)\n",
    "print(\"{:.2f}\".format(Pspam))"
   ]
  },
  {
   "cell_type": "markdown",
   "metadata": {},
   "source": [
    "- A probabilidade de uma mensagem ser HAM, ou seja:\n",
    "\n",
    "    $P(HAM)$"
   ]
  },
  {
   "cell_type": "code",
   "execution_count": 57,
   "metadata": {},
   "outputs": [
    {
     "name": "stdout",
     "output_type": "stream",
     "text": [
      "0.86\n"
     ]
    }
   ],
   "source": [
    "#Descobrindo a probabilidade a partir do total de emails HAM, e do total geral:\n",
    "Pham = ham/len(treinamento.Email)\n",
    "print(\"{:.2f}\".format(Pham))"
   ]
  },
  {
   "cell_type": "markdown",
   "metadata": {},
   "source": [
    "- A probabilidade de uma palavra acontecer se a mensagem na base treinamento é considerada SPAM:\n",
    "\n",
    "    $P(Palavra|SPAM)$"
   ]
  },
  {
   "cell_type": "code",
   "execution_count": 61,
   "metadata": {},
   "outputs": [],
   "source": [
    "#Criando a função para descobrir a probabilidade da palavra acontecer dado que a memsagem é SPAM:\n",
    "def P_palavra_spam(palavra):\n",
    "    probabilidade = dic_SPAM[palavra]/contador_SPAM\n",
    "    return probabilidade"
   ]
  },
  {
   "cell_type": "markdown",
   "metadata": {},
   "source": [
    "- A probabilidade de uma palavra acontecer se a mensagem na base treinamento é considerada HAM:\n",
    "\n",
    "    $P(Palavra|HAM)$"
   ]
  },
  {
   "cell_type": "code",
   "execution_count": 64,
   "metadata": {},
   "outputs": [],
   "source": [
    "#Criando a função para descobrir a probabilidade da palavra acontecer dado que a memsagem é HAM:\n",
    "def P_palavra_ham(palavra):\n",
    "    probabilidade = dic_HAM[palavra]/contador_HAM\n",
    "    return probabilidade"
   ]
  },
  {
   "cell_type": "markdown",
   "metadata": {},
   "source": [
    "...\n",
    "\n",
    "**Agora vamos implementar o classificador:** \n",
    "\n",
    "Quando estudamos o que o modelo usa para fazer sua previsão, vemos que ele parte das informações recebidas apriori e da possibilidade, que ele descobre atraves da analise dos dados de treinamento e com isso ele faz sua previsão.<br>\n",
    "Por exemplo:\n",
    "\n",
    "$$P(A|B) = \\frac{P(B|A) \\cdot P(A)}{P(B)}$$\n",
    "\n",
    "Portanto, podemos dizer que:\n",
    "\n",
    "$$P(SPAM|mensagem)=\\frac{P(mensagem|SPAM)\\cdot P(SPAM)}{P(mensagem)}$$"
   ]
  },
  {
   "cell_type": "code",
   "execution_count": null,
   "metadata": {},
   "outputs": [],
   "source": []
  },
  {
   "cell_type": "code",
   "execution_count": null,
   "metadata": {},
   "outputs": [],
   "source": []
  },
  {
   "cell_type": "markdown",
   "metadata": {},
   "source": [
    "___\n",
    "## 4. Qualidade do Classificador alterando a base de treinamento"
   ]
  },
  {
   "cell_type": "code",
   "execution_count": null,
   "metadata": {},
   "outputs": [],
   "source": []
  },
  {
   "cell_type": "code",
   "execution_count": null,
   "metadata": {},
   "outputs": [],
   "source": []
  }
 ],
 "metadata": {
  "anaconda-cloud": {},
  "kernelspec": {
   "display_name": "Python 3",
   "language": "python",
   "name": "python3"
  },
  "language_info": {
   "codemirror_mode": {
    "name": "ipython",
    "version": 3
   },
   "file_extension": ".py",
   "mimetype": "text/x-python",
   "name": "python",
   "nbconvert_exporter": "python",
   "pygments_lexer": "ipython3",
   "version": "3.7.1"
  }
 },
 "nbformat": 4,
 "nbformat_minor": 1
}
